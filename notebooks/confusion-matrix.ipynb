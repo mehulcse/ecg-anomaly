{
 "cells": [
  {
   "cell_type": "code",
   "execution_count": 1,
   "metadata": {},
   "outputs": [],
   "source": [
    "import json\n",
    "import numpy as np\n",
    "\n",
    "from pylab import rcParams\n",
    "from sklearn.metrics import accuracy_score, confusion_matrix, precision_score, recall_score, balanced_accuracy_score, f1_score\n",
    "import matplotlib.pyplot as plt\n",
    "import seaborn as sns\n",
    "from matplotlib.colors import ListedColormap\n",
    "\n",
    "rcParams['figure.figsize'] = 8, 8"
   ]
  },
  {
   "cell_type": "code",
   "execution_count": 2,
   "metadata": {},
   "outputs": [],
   "source": [
    "preds = np.loadtxt('../experiments/ECGNet/results/predictions.txt').astype(int)\n",
    "mapping = json.load(open('../data/class-mapper.json'))\n",
    "gt = [mapping[i['label']] for i in json.load(open('../data/val.json'))]"
   ]
  },
  {
   "cell_type": "code",
   "execution_count": 3,
   "metadata": {},
   "outputs": [
    {
     "data": {
      "text/plain": [
       "0.9817272552413926"
      ]
     },
     "execution_count": 3,
     "metadata": {},
     "output_type": "execute_result"
    }
   ],
   "source": [
    "accuracy_score(gt, preds)"
   ]
  },
  {
   "cell_type": "code",
   "execution_count": 4,
   "metadata": {},
   "outputs": [
    {
     "data": {
      "text/plain": [
       "0.9817272552413926"
      ]
     },
     "execution_count": 4,
     "metadata": {},
     "output_type": "execute_result"
    }
   ],
   "source": [
    "recall_score(gt, preds, average='micro')"
   ]
  },
  {
   "cell_type": "code",
   "execution_count": 5,
   "metadata": {},
   "outputs": [
    {
     "data": {
      "text/plain": [
       "0.9817272552413926"
      ]
     },
     "execution_count": 5,
     "metadata": {},
     "output_type": "execute_result"
    }
   ],
   "source": [
    "precision_score(gt, preds, average='micro')"
   ]
  },
  {
   "cell_type": "code",
   "execution_count": 6,
   "metadata": {},
   "outputs": [
    {
     "data": {
      "text/plain": [
       "0.905587189081752"
      ]
     },
     "execution_count": 6,
     "metadata": {},
     "output_type": "execute_result"
    }
   ],
   "source": [
    "balanced_accuracy_score(gt, preds)"
   ]
  },
  {
   "cell_type": "code",
   "execution_count": 7,
   "metadata": {},
   "outputs": [
    {
     "data": {
      "text/plain": [
       "0.905587189081752"
      ]
     },
     "execution_count": 7,
     "metadata": {},
     "output_type": "execute_result"
    }
   ],
   "source": [
    "np.mean(recall_score(gt, preds, average=None))"
   ]
  },
  {
   "cell_type": "code",
   "execution_count": 8,
   "metadata": {},
   "outputs": [
    {
     "data": {
      "text/plain": [
       "0.905587189081752"
      ]
     },
     "execution_count": 8,
     "metadata": {},
     "output_type": "execute_result"
    }
   ],
   "source": [
    "recall_score(gt, preds, average='macro')"
   ]
  },
  {
   "cell_type": "code",
   "execution_count": 9,
   "metadata": {},
   "outputs": [
    {
     "data": {
      "text/plain": [
       "0.9321874671562357"
      ]
     },
     "execution_count": 9,
     "metadata": {},
     "output_type": "execute_result"
    }
   ],
   "source": [
    "f1_score(gt, preds, average='macro')"
   ]
  },
  {
   "cell_type": "code",
   "execution_count": 10,
   "metadata": {},
   "outputs": [
    {
     "data": {
      "image/png": "[encoded data removed]",
      "text/plain": [
       "<Figure size 800x800 with 1 Axes>"
      ]
     },
     "metadata": {},
     "output_type": "display_data"
    }
   ],
   "source": [
    "ax = sns.heatmap(confusion_matrix(gt, preds), annot=True, cmap=\"Greens\", fmt='g', \n",
    "                 xticklabels=mapping.keys(), yticklabels=mapping.keys(), cbar=False, square=False)"
   ]
  },
  {
   "cell_type": "code",
   "execution_count": 11,
   "metadata": {
    "tags": []
   },
   "outputs": [
    {
     "data": {
      "text/plain": [
       "<Figure size 800x800 with 0 Axes>"
      ]
     },
     "metadata": {},
     "output_type": "display_data"
    }
   ],
   "source": [
    "plt.savefig(\"cm.png\")"
   ]
  },
  {
   "cell_type": "code",
   "execution_count": 12,
   "metadata": {
    "tags": []
   },
   "outputs": [],
   "source": [
    "cm = confusion_matrix(gt, preds)"
   ]
  },
  {
   "cell_type": "code",
   "execution_count": 13,
   "metadata": {
    "tags": []
   },
   "outputs": [
    {
     "data": {
      "text/plain": [
       "array([[7455,    2,    9,    7,    0,    4,    1,    0],\n",
       "       [  10,  793,    0,    1,    0,    3,    0,    0],\n",
       "       [   6,    0,  718,    1,    0,    1,    0,    0],\n",
       "       [  35,    2,    0,  671,    0,    1,    3,    0],\n",
       "       [   0,    1,    0,    0,  360,    0,    1,    0],\n",
       "       [  71,    0,   23,    1,    0,  160,    0,    0],\n",
       "       [   2,    1,    0,    2,    0,    0,   42,    0],\n",
       "       [   1,    0,    0,    1,    0,    0,    0,    9]])"
      ]
     },
     "execution_count": 13,
     "metadata": {},
     "output_type": "execute_result"
    }
   ],
   "source": [
    "cm"
   ]
  },
  {
   "cell_type": "code",
   "execution_count": 14,
   "metadata": {
    "tags": []
   },
   "outputs": [
    {
     "name": "stdout",
     "output_type": "stream",
     "text": [
      "Class 0: Precision = 0.98,           Accuracy = 0.99,           Recall = 1.00\n",
      "Class 1: Precision = 0.99,           Accuracy = 1.00,           Recall = 0.98\n",
      "Class 2: Precision = 0.96,           Accuracy = 1.00,           Recall = 0.99\n",
      "Class 3: Precision = 0.98,           Accuracy = 0.99,           Recall = 0.94\n",
      "Class 4: Precision = 1.00,           Accuracy = 1.00,           Recall = 0.99\n",
      "Class 5: Precision = 0.95,           Accuracy = 0.99,           Recall = 0.63\n",
      "Class 6: Precision = 0.89,           Accuracy = 1.00,           Recall = 0.89\n",
      "Class 7: Precision = 1.00,           Accuracy = 1.00,           Recall = 0.82\n"
     ]
    }
   ],
   "source": [
    "# Calculate precision and accuracy for each class  \n",
    "num_classes = len(cm)  \n",
    "precision = []  \n",
    "accuracy = []\n",
    "recall = []\n",
    "  \n",
    "for i in range(num_classes):  \n",
    "    true_positives = cm[i, i]  \n",
    "    false_positives = sum(cm[:, i]) - true_positives  \n",
    "    false_negatives = sum(cm[i, :]) - true_positives  \n",
    "    true_negatives = sum(sum(cm)) - true_positives - false_positives - false_negatives  \n",
    "      \n",
    "    class_precision = true_positives / (true_positives + false_positives)  \n",
    "    class_accuracy = (true_positives + true_negatives) / sum(sum(cm)) \n",
    "    class_recall = true_positives / (true_positives + false_negatives) \n",
    "      \n",
    "    precision.append(class_precision)  \n",
    "    accuracy.append(class_accuracy)\n",
    "    recall.append(class_recall)\n",
    "  \n",
    "# Print precision and accuracy for each class  \n",
    "for i in range(num_classes):  \n",
    "    print(f\"Class {i}: Precision = {precision[i]:.2f}, \\\n",
    "          Accuracy = {accuracy[i]:.2f}, \\\n",
    "          Recall = {recall[i]:.2f}\")  \n"
   ]
  },
  {
   "cell_type": "code",
   "execution_count": 15,
   "metadata": {
    "tags": []
   },
   "outputs": [
    {
     "name": "stdout",
     "output_type": "stream",
     "text": [
      "N - 0.996924, L - 0.982652, R - 0.988981, V - 0.942416, \\ - 0.994475, A - 0.627451, ! - 0.893617, E - 0.818182, "
     ]
    }
   ],
   "source": [
    "for value, label in zip(recall_score(gt, preds, average=None), mapping.keys()):\n",
    "    print (\"{} - {:4f}\".format(label, value), end=', ')"
   ]
  },
  {
   "cell_type": "code",
   "execution_count": 16,
   "metadata": {
    "tags": []
   },
   "outputs": [
    {
     "name": "stdout",
     "output_type": "stream",
     "text": [
      "N - 0.996924, L - 0.982652, R - 0.988981, V - 0.942416, \\ - 0.994475, A - 0.627451, ! - 0.893617, E - 0.818182, "
     ]
    }
   ],
   "source": [
    "for value, label in zip(recall_score(gt, preds, average=None), mapping.keys()):\n",
    "    print (\"{} - {:4f}\".format(label, value), end=', ')"
   ]
  },
  {
   "cell_type": "code",
   "execution_count": 17,
   "metadata": {
    "tags": []
   },
   "outputs": [],
   "source": [
    "from sklearn.metrics import classification_report"
   ]
  },
  {
   "cell_type": "code",
   "execution_count": 18,
   "metadata": {
    "tags": []
   },
   "outputs": [
    {
     "name": "stdout",
     "output_type": "stream",
     "text": [
      "              precision    recall  f1-score   support\n",
      "\n",
      "           N       0.98      1.00      0.99      7478\n",
      "           L       0.99      0.98      0.99       807\n",
      "           R       0.96      0.99      0.97       726\n",
      "           V       0.98      0.94      0.96       712\n",
      "           \\       1.00      0.99      1.00       362\n",
      "           A       0.95      0.63      0.75       255\n",
      "           !       0.89      0.89      0.89        47\n",
      "           E       1.00      0.82      0.90        11\n",
      "\n",
      "    accuracy                           0.98     10398\n",
      "   macro avg       0.97      0.91      0.93     10398\n",
      "weighted avg       0.98      0.98      0.98     10398\n",
      "\n"
     ]
    }
   ],
   "source": [
    "print(classification_report(\n",
    "    gt, preds, target_names=mapping.keys()\n",
    "))"
   ]
  },
  {
   "cell_type": "code",
   "execution_count": null,
   "metadata": {},
   "outputs": [],
   "source": []
  }
 ],
 "metadata": {
  "environment": {
   "kernel": "python3",
   "name": "tf2-gpu.2-6.m117",
   "type": "gcloud",
   "uri": "us-docker.pkg.dev/deeplearning-platform-release/gcr.io/tf2-gpu.2-6:m117"
  },
  "kernelspec": {
   "display_name": "Python 3",
   "language": "python",
   "name": "python3"
  },
  "language_info": {
   "codemirror_mode": {
    "name": "ipython",
    "version": 3
   },
   "file_extension": ".py",
   "mimetype": "text/x-python",
   "name": "python",
   "nbconvert_exporter": "python",
   "pygments_lexer": "ipython3",
   "version": "3.9.18"
  }
 },
 "nbformat": 4,
 "nbformat_minor": 4
}
